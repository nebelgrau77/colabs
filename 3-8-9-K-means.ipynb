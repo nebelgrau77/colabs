{
  "nbformat": 4,
  "nbformat_minor": 0,
  "metadata": {
    "anaconda-cloud": {},
    "kernelspec": {
      "display_name": "Python 3",
      "language": "python",
      "name": "python3"
    },
    "language_info": {
      "codemirror_mode": {
        "name": "ipython",
        "version": 3
      },
      "file_extension": ".py",
      "mimetype": "text/x-python",
      "name": "python",
      "nbconvert_exporter": "python",
      "pygments_lexer": "ipython3",
      "version": "3.7.3-final"
    },
    "colab": {
      "name": "3-8-9-K-means.ipynb",
      "provenance": [],
      "collapsed_sections": [],
      "toc_visible": true
    }
  },
  "cells": [
    {
      "cell_type": "markdown",
      "metadata": {
        "id": "Ifm3JBsFR8LT"
      },
      "source": [
        "# K-means Clustering for Anomaly Detection"
      ]
    },
    {
      "cell_type": "code",
      "metadata": {
        "id": "2f3xSlfzR8LT"
      },
      "source": [
        "%matplotlib inline\n",
        "import matplotlib.pyplot as plt\n",
        "import seaborn as sns; sns.set()\n",
        "import numpy as np"
      ],
      "execution_count": null,
      "outputs": []
    },
    {
      "cell_type": "markdown",
      "metadata": {
        "id": "smmcSc4FR8LT"
      },
      "source": [
        "## Introducing K-means"
      ]
    },
    {
      "cell_type": "markdown",
      "metadata": {
        "id": "OqWluG89R8LT"
      },
      "source": [
        "K-means clustering is a simple and useful unsupervised learning algorithm. The goal of K-means clustering is to group similar data points into a set number (K) of groups. The algorithm does this by identifying 'centroids', which are the centers of clusters, and then allocating data points to the nearest cluster."
      ]
    },
    {
      "cell_type": "markdown",
      "metadata": {
        "id": "ek7cdug9Rz7b"
      },
      "source": [
        "Let's try a simple example. First we should generate some clustered data. You could imagine these clusters are different stages in the normal operation of a machine."
      ]
    },
    {
      "cell_type": "code",
      "metadata": {
        "id": "yqxG6wjoR8LT",
        "colab": {
          "base_uri": "https://localhost:8080/",
          "height": 268
        },
        "outputId": "2722d007-edae-4058-abeb-d14f408a5bd1"
      },
      "source": [
        "from sklearn.datasets import make_blobs\n",
        "num_centers = 3\n",
        "X_train, y_train_true = make_blobs(n_samples=300, centers=num_centers,\n",
        "                                   cluster_std=0.40, random_state=0)\n",
        "plt.scatter(X_train[:, 0], X_train[:, 1], s=50);"
      ],
      "execution_count": null,
      "outputs": []
    },
    {
      "cell_type": "markdown",
      "metadata": {
        "id": "PRfEjUUBR8LU"
      },
      "source": [
        "In this example it's pretty easy to visual distinguish the clusters.\n",
        "\n",
        "Now lets use [SKLearn's KMeans](https://scikit-learn.org/stable/modules/generated/sklearn.cluster.KMeans.html) algorithm to fit to the data. This does a lot of the work for us but if you would like to learn more about the underlying process check out the [wikipedia page](https://en.wikipedia.org/wiki/K-means_clustering#Algorithms)"
      ]
    },
    {
      "cell_type": "code",
      "metadata": {
        "id": "q4NIBZ6zR8LU"
      },
      "source": [
        "from sklearn.cluster import KMeans\n",
        "kmeans = KMeans(n_clusters=num_centers) #we select three clusters\n",
        "kmeans.fit(X_train) #we fit the centroids to the data\n",
        "y_kmeans = kmeans.predict(X_train) #we determine the closest centroid for each datapoint"
      ],
      "execution_count": null,
      "outputs": []
    },
    {
      "cell_type": "markdown",
      "metadata": {
        "id": "F_TQ8Oh8R8LU"
      },
      "source": [
        "Now let's visualize the results. Each datapoint is color-coded according to the centroid they correspond to, and the centroids themselves are show as black circles."
      ]
    },
    {
      "cell_type": "code",
      "metadata": {
        "id": "2pOtyuvhR8LU",
        "colab": {
          "base_uri": "https://localhost:8080/",
          "height": 268
        },
        "outputId": "06cd5e2d-e8aa-407c-e2b2-7a544d53d125"
      },
      "source": [
        "plt.scatter(X_train[:, 0], X_train[:, 1], c=y_kmeans, s=50, cmap='viridis')\n",
        "\n",
        "centers = kmeans.cluster_centers_\n",
        "plt.scatter(centers[:, 0], centers[:, 1], c='black', s=200, alpha=0.5);"
      ],
      "execution_count": null,
      "outputs": []
    },
    {
      "cell_type": "markdown",
      "metadata": {
        "id": "ToMhXzc0R8LU"
      },
      "source": [
        "Looks like K-means does a great job in this simple example! Now let's explore how we can use this for anomaly detection.\n",
        "\n",
        "Below are new cluster that weren't part of our training data. We will pretend all of these are anomalies for the sake of a simple example. \n",
        "\n",
        "One of these clusters is completely different from the data we've seen before and another is only slightly different. We can easily visually separate one of the clusters, but the other one overlaps slightly with one of our training clusters. Given the low dimensionality of the data, it's reasonable that some new data is impossible to distinguish from the training data."
      ]
    },
    {
      "cell_type": "code",
      "metadata": {
        "colab": {
          "base_uri": "https://localhost:8080/",
          "height": 268
        },
        "id": "ZcyVY_nDX_Tn",
        "outputId": "79f5f3ca-3f54-4856-b3f6-d193ad71ba8c"
      },
      "source": [
        "X_anomaly, y_anomaly_true = make_blobs(n_samples=300, centers=2,\n",
        "                       cluster_std=0.40, random_state=1)\n",
        "plt.scatter(X_train[:, 0], X_train[:, 1], s=50);\n",
        "plt.scatter(X_anomaly[:,0], X_anomaly[:,1], s=50);"
      ],
      "execution_count": null,
      "outputs": []
    },
    {
      "cell_type": "markdown",
      "metadata": {
        "id": "kh8TjeroaH1D"
      },
      "source": [
        "First we will calculate the distances from each datapoint to it's closest cluster center and then we calculate the 99 percentile distance for each center that was observed in the training data. We use the 99 percentile distance here since our training data could have some outliers.\n",
        "\n",
        "These distances will act as a boundary, beyond which we will classify datapoints as anomalies. The percentile can be adjusted to be more or less sensitive depending on the application and the training data."
      ]
    },
    {
      "cell_type": "code",
      "metadata": {
        "colab": {
          "base_uri": "https://localhost:8080/"
        },
        "id": "2-SOS7eJaIO0",
        "outputId": "a93ead22-7775-4f6a-a934-3f8a80b7d940"
      },
      "source": [
        "percentile_treshold = 99\n",
        "\n",
        "train_distances = kmeans.transform(X_train)\n",
        "\n",
        "center_distances = {key: [] for key in range(num_centers)}\n",
        "for i in range(len(y_kmeans)):\n",
        "  min_distance = train_distances[i][y_kmeans[i]]\n",
        "  center_distances[y_kmeans[i]].append(min_distance)\n",
        "\n",
        "center_99percentile_distance = {key: np.percentile(center_distances[key], \\\n",
        "                                                   percentile_treshold)   \\\n",
        "                                for key in center_distances.keys()}\n",
        "\n",
        "print(center_99percentile_distance)\n",
        "\n"
      ],
      "execution_count": null,
      "outputs": []
    },
    {
      "cell_type": "markdown",
      "metadata": {
        "id": "zAXOnuPHl0b7"
      },
      "source": [
        "Now let's plot those normal/abnomal boundaries on our training data to see how well they encompass our training data. We will also plot in yellow the points in our training data that are being classified as abnormal."
      ]
    },
    {
      "cell_type": "code",
      "metadata": {
        "colab": {
          "base_uri": "https://localhost:8080/",
          "height": 268
        },
        "id": "yjpUYr3hibYV",
        "outputId": "5aec5484-b21c-493d-d49b-8d90196e020a"
      },
      "source": [
        "fig, ax = plt.subplots()\n",
        "\n",
        "colors = []\n",
        "for i in range(len(X_train)):\n",
        "  min_distance = train_distances[i][y_kmeans[i]]\n",
        "  if (min_distance > center_99percentile_distance[y_kmeans[i]]):\n",
        "    colors.append(4)\n",
        "  else:\n",
        "    colors.append(y_kmeans[i])\n",
        "\n",
        "\n",
        "ax.scatter(X_train[:, 0], X_train[:, 1], c=colors, s=50, cmap='viridis')\n",
        "\n",
        "for i in range(len(centers)):\n",
        "  circle = plt.Circle((centers[i][0], centers[i][1]),center_99percentile_distance[i], color='black', alpha=0.1);\n",
        "  ax.add_artist(circle)"
      ],
      "execution_count": null,
      "outputs": []
    },
    {
      "cell_type": "markdown",
      "metadata": {
        "id": "s9AR6TAUr3OH"
      },
      "source": [
        "Now let's add in the abnormal test data to see how it's classified."
      ]
    },
    {
      "cell_type": "code",
      "metadata": {
        "colab": {
          "base_uri": "https://localhost:8080/",
          "height": 303
        },
        "id": "T0qYhgT0r3hU",
        "outputId": "184701de-78da-4bf0-aaac-6e0dffdee445"
      },
      "source": [
        "fig, ax = plt.subplots()\n",
        "\n",
        "anomaly_distances = kmeans.transform(X_anomaly)\n",
        "y_anomaly = kmeans.predict(X_anomaly)\n",
        "\n",
        "#combine all the data\n",
        "combined_distances = [*train_distances, *anomaly_distances]\n",
        "combined_y = [*y_kmeans, *y_anomaly]\n",
        "all_data = np.array([*X_train, *X_anomaly])\n",
        "\n",
        "false_neg=0\n",
        "false_pos=0\n",
        "\n",
        "colors = []\n",
        "for i in range(len(all_data)):\n",
        "  min_distance = combined_distances[i][combined_y[i]]\n",
        "  if (min_distance > center_99percentile_distance[combined_y[i]]):\n",
        "    colors.append(4)\n",
        "    if (i<300): #training data is the first 300 elements in the combined list\n",
        "      false_pos+=1\n",
        "  else:\n",
        "    colors.append(combined_y[i])\n",
        "    if (i>=300):\n",
        "      false_neg+=1\n",
        "\n",
        "ax.scatter(all_data[:, 0], all_data[:, 1], c=colors, s=50, cmap='viridis')\n",
        "\n",
        "for i in range(len(centers)):\n",
        "  circle = plt.Circle((centers[i][0], centers[i][1]),center_99percentile_distance[i], color='black', alpha=0.1);\n",
        "  ax.add_artist(circle)\n",
        "\n",
        "print('Normal datapoints misclassified as abnormal: ', false_pos)\n",
        "print('Abnormal datapoints misclassified as normal: ', false_neg)"
      ],
      "execution_count": null,
      "outputs": []
    },
    {
      "cell_type": "markdown",
      "metadata": {
        "id": "1doZei2fLl8M"
      },
      "source": [
        "Our simple model did a pretty good job! \n",
        "\n",
        "Now we have a way to classify abnormal data in a simple two dimension space. You can adjust the `percentile_treshold` variable to see how that impacts the number of false positives and false negatives.\n",
        "\n",
        "Now let's see how well this applies to data with more dimensions."
      ]
    },
    {
      "cell_type": "markdown",
      "metadata": {
        "id": "dDj3A9aCR8LV"
      },
      "source": [
        "##K-means on Digits\n",
        "\n"
      ]
    },
    {
      "cell_type": "markdown",
      "metadata": {
        "id": "pQE7b1CvOMt6"
      },
      "source": [
        "First we load in our dataset of **64** pixel images of numerical digits (think MNIST in 8x8 pixel images), **a much higher dimmension** than our 2-D problem we were dealing with earlier."
      ]
    },
    {
      "cell_type": "code",
      "metadata": {
        "id": "KOIiHvXTR8LV"
      },
      "source": [
        "from sklearn.datasets import load_digits\n",
        "digits = load_digits()\n",
        "\n",
        "normal_data = []\n",
        "abnormal_data = []\n",
        "\n",
        "normal_label = []\n",
        "abnormal_label = []\n",
        "\n",
        "num_clusters = 8\n",
        "\n",
        "#separate our data arbitrarily into normal (2-9) and abnormal (0-1)\n",
        "for i in range(len(digits.target)):\n",
        "  if digits.target[i]<10-num_clusters:\n",
        "    abnormal_data.append(digits.data[i])\n",
        "    abnormal_label.append(digits.target[i])\n",
        "  else:\n",
        "    normal_data.append(digits.data[i])\n",
        "    normal_label.append(digits.target[i])"
      ],
      "execution_count": null,
      "outputs": []
    },
    {
      "cell_type": "markdown",
      "metadata": {
        "id": "jqQ1nb4qR8LV"
      },
      "source": [
        "Next we find our cluster centers"
      ]
    },
    {
      "cell_type": "code",
      "metadata": {
        "id": "WSXpxPoXR8LV",
        "colab": {
          "base_uri": "https://localhost:8080/"
        },
        "outputId": "b741dca8-4be4-4984-9938-88df8c0db392"
      },
      "source": [
        "kmeans = KMeans(n_clusters=num_clusters, random_state=0)\n",
        "clusters = kmeans.fit_predict(normal_data)\n",
        "\n",
        "kmeans.cluster_centers_.shape"
      ],
      "execution_count": null,
      "outputs": []
    },
    {
      "cell_type": "markdown",
      "metadata": {
        "id": "ipRk2AV8R8LV"
      },
      "source": [
        "Next let's visualize the centers that K-means found for each cluster. We see that K-means is able to find clusters whose centers are recognizable digits. A bit blury, but still recognizable to the human eye!"
      ]
    },
    {
      "cell_type": "code",
      "metadata": {
        "id": "COPbqtpFR8LV",
        "colab": {
          "base_uri": "https://localhost:8080/",
          "height": 194
        },
        "outputId": "78bb2e62-03e1-448e-fd69-eb69af511735"
      },
      "source": [
        "fig, ax = plt.subplots(2, int(num_clusters/2), figsize=(8, 3))\n",
        "centers = kmeans.cluster_centers_.reshape(num_clusters, 8, 8)\n",
        "for axi, center in zip(ax.flat, centers):\n",
        "    axi.set(xticks=[], yticks=[])\n",
        "    axi.imshow(center, interpolation='nearest', cmap=plt.cm.binary)"
      ],
      "execution_count": null,
      "outputs": []
    },
    {
      "cell_type": "markdown",
      "metadata": {
        "id": "6quDw3T4R8LV"
      },
      "source": [
        "Now let's find the 99 percentile boundary for these clusters as we did in the previous example."
      ]
    },
    {
      "cell_type": "code",
      "metadata": {
        "id": "NVvtt7OUR8LV",
        "colab": {
          "base_uri": "https://localhost:8080/"
        },
        "outputId": "52a58334-89fa-4a43-8d83-5e917e8c6d5c"
      },
      "source": [
        "percentile_treshold =99\n",
        "normal_y = kmeans.predict(normal_data)\n",
        "normal_distances = kmeans.transform(normal_data)\n",
        "center_distances = {key: [] for key in range(num_clusters)}\n",
        "for i in range(len(normal_y)):\n",
        "  min_distance = normal_distances[i][normal_y[i]]\n",
        "  center_distances[normal_y[i]].append(min_distance)\n",
        "\n",
        "center_99percentile_distance = {key: np.percentile(center_distances[key], \\\n",
        "                                                   percentile_treshold)   \\\n",
        "                                for key in center_distances.keys()}\n",
        "\n",
        "print(center_99percentile_distance)"
      ],
      "execution_count": null,
      "outputs": []
    },
    {
      "cell_type": "markdown",
      "metadata": {
        "id": "A2ltV4eyR8LV"
      },
      "source": [
        "Now lets get the distance to each centroid for our anomalous data and combine it with our normal data. Then we can classify everything as either normal or abnormal based on the distances we calculated previously."
      ]
    },
    {
      "cell_type": "code",
      "metadata": {
        "id": "Pj7x4NjjR8LV",
        "colab": {
          "base_uri": "https://localhost:8080/"
        },
        "outputId": "ad1ac522-993c-4a56-8eb4-a17a06f329f8"
      },
      "source": [
        "abnormal_y = kmeans.predict(abnormal_data)\n",
        "abnormal_distances = kmeans.transform(abnormal_data)\n",
        "\n",
        "#combine all the data\n",
        "combined_distances = [*normal_distances, *abnormal_distances]\n",
        "combined_y = [*normal_y, *abnormal_y]\n",
        "normal_data_length = len(normal_data)\n",
        "all_data = np.array([*normal_data, *abnormal_data])\n",
        "\n",
        "false_neg=0\n",
        "false_pos=0\n",
        "\n",
        "for i in range(len(all_data)):\n",
        "  min_distance = combined_distances[i][combined_y[i]]\n",
        "  if (min_distance > center_99percentile_distance[combined_y[i]]):\n",
        "    if (i<normal_data_length): #training data is first\n",
        "      false_pos+=1\n",
        "  else:\n",
        "    if (i>=normal_data_length):\n",
        "      false_neg+=1\n",
        "\n",
        "print('Normal datapoints misclassified as abnormal: ', false_pos)\n",
        "print('Abnormal datapoints misclassified as normal: ', false_neg)"
      ],
      "execution_count": null,
      "outputs": []
    },
    {
      "cell_type": "markdown",
      "metadata": {
        "id": "STL0sK-GR8LV"
      },
      "source": [
        "The results are ok but not ideal. We can try adjusting the `percentile_treshold` variable to get better results. However, generally, K-means doesn't scale well with increased dimensionality. This example is still very low dimensional compared to many real world use cases and it still has a significant impact on our accuracy. This relationship is called the [***Curse of Dimensionality***](https://en.wikipedia.org/wiki/Curse_of_dimensionality) which plagues many conventional machine learning algorithms.\n",
        "\n",
        "Next we will explore how to improve our K-means results with some pre-processing."
      ]
    },
    {
      "cell_type": "markdown",
      "metadata": {
        "id": "g3IkAByRJ_G9"
      },
      "source": [
        "##Dimensionality Reduction\n",
        "\n",
        "To combat the ***Curse of Dimensionality*** we can try projecting our data into a low dimensional space.\n",
        "\n",
        "We can use the t-distributed stochastic neighbor embedding ([t-SNE](https://en.wikipedia.org/wiki/T-distributed_stochastic_neighbor_embedding)) algorithm, to pre-process the data before feeding it into K-means. t-SNE is used to visualize high dimensional data and we can use it to reduce the dimensionality of our input data which will hopefully lead to better results!\n",
        "\n",
        "First we will run TSNE on all of our data (normal and abnormal) and later split it into our train (normal) and test (abnormal) data. This is becasue t-SNE is a transductive learner and is not intended to transform data beyond what it is trained on. There are some recent [implementations](https://github.com/kylemcdonald/Parametric-t-SNE) of a [parametric t-sne algorithm](https://lvdmaaten.github.io/publications/papers/AISTATS_2009.pdf) that can acomplish this but they are not included in sklearn."
      ]
    },
    {
      "cell_type": "code",
      "metadata": {
        "id": "997kxAbzR8LW",
        "colab": {
          "base_uri": "https://localhost:8080/"
        },
        "outputId": "14bd8036-9372-413b-8ccc-ef9acfb635c7"
      },
      "source": [
        "from sklearn.manifold import TSNE\n",
        "\n",
        "# Project the data: this step will take several seconds\n",
        "tsne = TSNE(n_components=2, init='random', random_state=0)\n",
        "digits_proj = tsne.fit_transform(digits.data)\n",
        "print(digits_proj.shape)"
      ],
      "execution_count": null,
      "outputs": []
    },
    {
      "cell_type": "code",
      "metadata": {
        "colab": {
          "base_uri": "https://localhost:8080/",
          "height": 286
        },
        "id": "1Fw6CB01LU02",
        "outputId": "dca8a39e-1e56-4b42-9c08-929aca7c0a7c"
      },
      "source": [
        "#Visualize our new data\n",
        "fig, ax = plt.subplots()\n",
        "ax.scatter(digits_proj[:, 0], digits_proj[:, 1],c=digits.target, s=50, cmap='viridis')"
      ],
      "execution_count": null,
      "outputs": []
    },
    {
      "cell_type": "markdown",
      "metadata": {
        "id": "tg0wHyv-RFfH"
      },
      "source": [
        "Now we have nicely separated two dimension data (down from our 64 pixel images)! This looks a lot more like the clusters in the first example\n",
        "\n",
        "Next, we separate the data into normal and abnormal just like the previous example."
      ]
    },
    {
      "cell_type": "code",
      "metadata": {
        "id": "OMovdjEIREZ5"
      },
      "source": [
        "normal_data = []\n",
        "abnormal_data = []\n",
        "\n",
        "normal_label = []\n",
        "abnormal_label = []\n",
        "\n",
        "num_clusters = 8\n",
        "\n",
        "#separate our data arbitrarily into normal (2-9) and abnormal (0-1)\n",
        "for i in range(len(digits.target)):\n",
        "  if digits.target[i]<10-num_clusters:\n",
        "    abnormal_data.append(digits_proj[i])\n",
        "    abnormal_label.append(digits.target[i])\n",
        "  else:\n",
        "    normal_data.append(digits_proj[i])\n",
        "    normal_label.append(digits.target[i])"
      ],
      "execution_count": null,
      "outputs": []
    },
    {
      "cell_type": "markdown",
      "metadata": {
        "id": "cVDatE4yXmtB"
      },
      "source": [
        "Now run K-means and calculate our percentile threshold."
      ]
    },
    {
      "cell_type": "code",
      "metadata": {
        "colab": {
          "base_uri": "https://localhost:8080/"
        },
        "id": "cBS7yNCnK2kw",
        "outputId": "262dc4d3-3f3a-4323-bfde-3267fce824c7"
      },
      "source": [
        "# Compute the clusters\n",
        "kmeans = KMeans(n_clusters=num_clusters, random_state=0)\n",
        "clusters = kmeans.fit_predict(normal_data)\n",
        "\n",
        "#calculate the percentile bounday\n",
        "percentile_treshold =99\n",
        "normal_y = kmeans.predict(normal_data)\n",
        "normal_distances = kmeans.transform(normal_data)\n",
        "center_distances = {key: [] for key in range(num_clusters)}\n",
        "for i in range(len(normal_y)):\n",
        "  min_distance = normal_distances[i][normal_y[i]]\n",
        "  center_distances[normal_y[i]].append(min_distance)\n",
        "\n",
        "center_99percentile_distance = {key: np.percentile(center_distances[key], \\\n",
        "                                                   percentile_treshold)   \\\n",
        "                                for key in center_distances.keys()}\n",
        "\n",
        "print(center_99percentile_distance)\n",
        "\n"
      ],
      "execution_count": null,
      "outputs": []
    },
    {
      "cell_type": "markdown",
      "metadata": {
        "id": "xQkSkEUrX0U1"
      },
      "source": [
        "Finally we calculate the distances of our abnormal data to our cluster centers. Then count the number of false negatives and false positives and plot all the data."
      ]
    },
    {
      "cell_type": "code",
      "metadata": {
        "colab": {
          "base_uri": "https://localhost:8080/",
          "height": 303
        },
        "id": "ISboi3-sTaiL",
        "outputId": "c05da2d8-3d39-4894-ee69-895b5049de3a"
      },
      "source": [
        "abnormal_y = kmeans.predict(abnormal_data)\n",
        "abnormal_distances = kmeans.transform(abnormal_data)\n",
        "\n",
        "#combine all the data\n",
        "combined_distances = [*normal_distances, *abnormal_distances]\n",
        "combined_y = [*normal_y, *abnormal_y]\n",
        "normal_data_length = len(normal_data)\n",
        "all_data = np.array([*normal_data, *abnormal_data])\n",
        "\n",
        "false_neg=0\n",
        "false_pos=0\n",
        "colors = []\n",
        "for i in range(len(all_data)):\n",
        "  min_distance = combined_distances[i][combined_y[i]]\n",
        "  if (min_distance > center_99percentile_distance[combined_y[i]]):\n",
        "    colors.append(10)\n",
        "    if (i<normal_data_length): #training data is first in combined set\n",
        "      false_pos+=1\n",
        "  else:\n",
        "    colors.append(combined_y[i])\n",
        "    if (i>=normal_data_length):\n",
        "      false_neg+=1\n",
        "\n",
        "fig, ax = plt.subplots()\n",
        "ax.scatter(all_data[:, 0], all_data[:, 1], c=colors, s=50, cmap='viridis')\n",
        "\n",
        "centers = kmeans.cluster_centers_\n",
        "for i in range(len(centers)):\n",
        "  circle = plt.Circle((centers[i][0], centers[i][1]),center_99percentile_distance[i], color='black', alpha=0.1);\n",
        "  ax.add_artist(circle)\n",
        "\n",
        "print('Normal datapoints misclassified as abnormal: ', false_pos)\n",
        "print('Abnormal datapoints misclassified as normal: ', false_neg)"
      ],
      "execution_count": null,
      "outputs": []
    },
    {
      "cell_type": "markdown",
      "metadata": {
        "id": "KdGuqSYiYKv_"
      },
      "source": [
        "**Great results!!** We've drastically reduced the number of abnormal points being misclassified as normal! \n",
        "\n",
        "Unfortunately, while dimensionality reduction can be a power tool, it's not always a viable option. Algorithms like t-SNE can take a long time to run and won't always produce useful results.\n",
        "\n",
        "In the next section you will learn about a neural network approach to anomaly detection which can achieve high accuracy on high dimensional data."
      ]
    },
    {
      "cell_type": "markdown",
      "metadata": {
        "id": "WCYghaoq6gwF"
      },
      "source": [
        "## Additional Readings\n",
        "If you would like to learn about using reconstruction with K-means for anomaly detection check out: http://amid.fish/anomaly-detection-with-k-means-clustering"
      ]
    },
    {
      "cell_type": "code",
      "metadata": {
        "id": "aQdqhr_5P7eS"
      },
      "source": [],
      "execution_count": null,
      "outputs": []
    }
  ]
}